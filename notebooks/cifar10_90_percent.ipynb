{
 "cells": [
  {
   "cell_type": "markdown",
   "id": "ed22bc09",
   "metadata": {},
   "source": [
    "# CIFAR10 90% test accuracy\n",
    "This is notebook is a (hopefully cleaner) reimplementation of a [kaggle notebook](https://www.kaggle.com/code/kmldas/cifar10-resnet-90-accuracy-less-than-5-min).  \n",
    "The first goal is to familiarize my self with more advanced architecture and training method than the baseline tutorial model.  \n",
    "The second goal is to interpret the trained model.  "
   ]
  },
  {
   "cell_type": "markdown",
   "id": "7df64782",
   "metadata": {},
   "source": [
    "## Setup"
   ]
  },
  {
   "cell_type": "markdown",
   "id": "3e2fee40",
   "metadata": {},
   "source": [
    "### Imports"
   ]
  },
  {
   "cell_type": "markdown",
   "id": "a538b232",
   "metadata": {},
   "source": [
    "from torch import nn\n",
    "from torch import Tensor\n",
    "from torchvision import CIFAR10\n",
    "from torchvision.utils import make_grid\n",
    "from torch.utils.data import DataLoader as DL\n",
    "from torchvision.transformers import (\n",
    "    Compose,\n",
    "    ToTensor,\n",
    "    Normalize,\n",
    "    RandomCrop,\n",
    "    RandomHorizontalFlip,\n",
    ")\n",
    "\n",
    "from trainer import Trainer"
   ]
  },
  {
   "cell_type": "markdown",
   "id": "cabaff52",
   "metadata": {},
   "source": [
    "### Search for an accelerator"
   ]
  },
  {
   "cell_type": "code",
   "execution_count": null,
   "id": "3c97b487",
   "metadata": {},
   "outputs": [
    {
     "data": {
      "text/plain": [
       "device(type='cuda', index=0)"
      ]
     },
     "metadata": {},
     "output_type": "display_data"
    }
   ],
   "source": [
    "device = torch.device('cuda:0' if torch.cuda.is_available() else 'cpu')\n",
    "device"
   ]
  },
  {
   "cell_type": "markdown",
   "id": "96e00bec",
   "metadata": {},
   "source": [
    "## Datasets, Transforms and Data loaders"
   ]
  },
  {
   "cell_type": "markdown",
   "id": "01249d3d",
   "metadata": {},
   "source": [
    "### Transforms"
   ]
  },
  {
   "cell_type": "code",
   "execution_count": null,
   "id": "80941945",
   "metadata": {
    "vscode": {
     "languageId": "plaintext"
    }
   },
   "outputs": [],
   "source": [
    "CHANNELS_MEAN = (0.4914, 0.4822, 0.4465)\n",
    "CHANNELS_STD = (0.2023, 0.1994, 0.2010)\n",
    "\n",
    "training_transform = Compose([\n",
    "    RamdomCrop(32, padding=4, padding_mode=\"constant),\n",
    "    RandomHorizontalFlip(),\n",
    "    ToTensor(),\n",
    "    Normalize(CHANNELS_MEAN, CHANNELS_STD, inplace=True),\n",
    "])\n",
    "validation_transform = Compose([ToTensor(), Normalize(CHANNELS_MEAN, CHANNELS_STD)])"
   ]
  },
  {
   "cell_type": "markdown",
   "id": "c514608a",
   "metadata": {},
   "source": [
    "### Datasets"
   ]
  },
  {
   "cell_type": "code",
   "execution_count": null,
   "id": "ceaa7570",
   "metadata": {
    "vscode": {
     "languageId": "plaintext"
    }
   },
   "outputs": [],
   "source": [
    "training_dataset = CIFAR10(root=\"./datasets/cifar10/\", train=True, download=True, transform=training_transform)\n",
    "validation_dataset = CIFAR10(root=\"./datasets/cifar10/\", train=False, transform=validation_transform)"
   ]
  },
  {
   "cell_type": "markdown",
   "id": "befdf42b",
   "metadata": {},
   "source": [
    "### Datasets loaders"
   ]
  },
  {
   "cell_type": "code",
   "execution_count": null,
   "id": "81b0fca4",
   "metadata": {
    "vscode": {
     "languageId": "plaintext"
    }
   },
   "outputs": [],
   "source": [
    "BATCH_SIZE = 400\n",
    "training_dl = DL(training_dataset, BATCH_SIZE, shuffle=True, num_workers=3, pin_memory=True)\n",
    "validation_dl = DL(validation_dataset, BATCH_SIZE * 2, num_workers=3, pin_memory=True)"
   ]
  },
  {
   "cell_type": "markdown",
   "id": "a772bee0",
   "metadata": {},
   "source": [
    "### Dataset visualization"
   ]
  },
  {
   "cell_type": "code",
   "execution_count": null,
   "id": "db86d756",
   "metadata": {
    "vscode": {
     "languageId": "plaintext"
    }
   },
   "outputs": [],
   "source": [
    "images, labels = next(iter(training_dataset))\n",
    "fig, ax = plt.subplots(figsize=(12, 12))\n",
    "ax.set_xticks([]); ax.set_yticks([])\n",
    "ax.imshow(make_grid(images[:64], nrow=8).permute(1, 2, 0))"
   ]
  },
  {
   "cell_type": "markdown",
   "id": "bae509cf",
   "metadata": {},
   "source": [
    "## Model definition"
   ]
  },
  {
   "cell_type": "code",
   "execution_count": null,
   "id": "98f8ff0a",
   "metadata": {
    "vscode": {
     "languageId": "plaintext"
    }
   },
   "outputs": [],
   "source": [
    "def conv_block(in_channels: int, out_channels: int, pool=False) -> nn.Module:\n",
    "    layers = [\n",
    "        nn.Conv2d(in_channels, out_channels, kernel_size=3, padding=1), \n",
    "        nn.BatchNorm2d(out_channels), \n",
    "        nn.ReLU(inplace=True),\n",
    "    ]\n",
    "    if pool: \n",
    "        layers.append(nn.MaxPool2d(2))\n",
    "    return nn.Sequential(*layers)\n",
    "\n",
    "class ResNet9(nn.Module):\n",
    "    def __init__(self, in_channels: int, num_classes: int):\n",
    "        super().__init__()\n",
    "        \n",
    "        self.conv1 = conv_block(in_channels, 64)\n",
    "        self.conv2 = conv_block(64, 128, pool=True)\n",
    "        self.res1 = nn.Sequential(conv_block(128, 128), conv_block(128, 128))\n",
    "        \n",
    "        self.conv3 = conv_block(128, 256, pool=True)\n",
    "        self.conv4 = conv_block(256, 512, pool=True)\n",
    "        self.res2 = nn.Sequential(conv_block(512, 512), conv_block(512, 512))\n",
    "        \n",
    "        self.classifier = nn.Sequential(\n",
    "            nn.MaxPool2d(4), \n",
    "            nn.Flatten(), \n",
    "            nn.Linear(512, num_classes),\n",
    "        )\n",
    "\n",
    "    def forward(self, xb: Tensor) -> Tensor:\n",
    "        out = self.conv1(xb)\n",
    "        out = self.conv2(out)\n",
    "        out = self.res1(out) + out\n",
    "        out = self.conv3(out)\n",
    "        out = self.conv4(out)\n",
    "        out = self.res2(out) + out\n",
    "        out = self.classifier(out)\n",
    "        return out\n"
   ]
  }
 ],
 "metadata": {
  "language_info": {
   "name": "python"
  }
 },
 "nbformat": 4,
 "nbformat_minor": 5
}
